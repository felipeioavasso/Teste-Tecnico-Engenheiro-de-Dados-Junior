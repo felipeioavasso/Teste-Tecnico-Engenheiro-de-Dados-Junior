{
 "cells": [
  {
   "cell_type": "markdown",
   "metadata": {},
   "source": [
    "# Carregando o dataset"
   ]
  },
  {
   "cell_type": "code",
   "execution_count": 1,
   "metadata": {},
   "outputs": [
    {
     "name": "stdout",
     "output_type": "stream",
     "text": [
      "Dados carregados com sucesso!\n"
     ]
    }
   ],
   "source": [
    "from CSV_Loader_GUI import carregar_e_exibir_csv\n",
    "\n",
    "# Chama a interface gráfica e retorna o DataFrame\n",
    "df = carregar_e_exibir_csv()\n",
    "\n",
    "# Verifica o conteúdo do DataFrame\n",
    "if df is not None:\n",
    "    print(\"Dados carregados com sucesso!\")\n",
    "else:\n",
    "    print(\"Nenhum arquivo foi carregado.\")"
   ]
  },
  {
   "cell_type": "markdown",
   "metadata": {},
   "source": [
    "# Importando Bibliotecas"
   ]
  },
  {
   "cell_type": "code",
   "execution_count": 2,
   "metadata": {},
   "outputs": [],
   "source": [
    "import pandas as pd\n",
    "import os"
   ]
  },
  {
   "cell_type": "markdown",
   "metadata": {},
   "source": [
    "# Manipulando os dados"
   ]
  },
  {
   "cell_type": "markdown",
   "metadata": {},
   "source": [
    "## Convertendo a coluna data_venda para o formato YYYY-MM-DD"
   ]
  },
  {
   "cell_type": "code",
   "execution_count": 3,
   "metadata": {},
   "outputs": [],
   "source": [
    "df['data_venda'] = pd.to_datetime(df['data_venda'], format=\"%d/%m/%Y\").dt.strftime(\"%Y-%m-%d\")"
   ]
  },
  {
   "cell_type": "markdown",
   "metadata": {},
   "source": [
    "## Criando a coluna total_venda"
   ]
  },
  {
   "cell_type": "code",
   "execution_count": 4,
   "metadata": {},
   "outputs": [
    {
     "data": {
      "text/html": [
       "<div>\n",
       "<style scoped>\n",
       "    .dataframe tbody tr th:only-of-type {\n",
       "        vertical-align: middle;\n",
       "    }\n",
       "\n",
       "    .dataframe tbody tr th {\n",
       "        vertical-align: top;\n",
       "    }\n",
       "\n",
       "    .dataframe thead th {\n",
       "        text-align: right;\n",
       "    }\n",
       "</style>\n",
       "<table border=\"1\" class=\"dataframe\">\n",
       "  <thead>\n",
       "    <tr style=\"text-align: right;\">\n",
       "      <th></th>\n",
       "      <th>id_venda</th>\n",
       "      <th>data_venda</th>\n",
       "      <th>cliente</th>\n",
       "      <th>produto</th>\n",
       "      <th>quantidade</th>\n",
       "      <th>preco_unitario</th>\n",
       "      <th>total_venda</th>\n",
       "    </tr>\n",
       "  </thead>\n",
       "  <tbody>\n",
       "    <tr>\n",
       "      <th>0</th>\n",
       "      <td>1</td>\n",
       "      <td>2024-03-12</td>\n",
       "      <td>Laura Turner</td>\n",
       "      <td>Teclado</td>\n",
       "      <td>5</td>\n",
       "      <td>4231.92</td>\n",
       "      <td>21159.60</td>\n",
       "    </tr>\n",
       "    <tr>\n",
       "      <th>1</th>\n",
       "      <td>2</td>\n",
       "      <td>2025-01-25</td>\n",
       "      <td>Regina Johnson</td>\n",
       "      <td>Teclado</td>\n",
       "      <td>4</td>\n",
       "      <td>583.05</td>\n",
       "      <td>2332.20</td>\n",
       "    </tr>\n",
       "    <tr>\n",
       "      <th>2</th>\n",
       "      <td>3</td>\n",
       "      <td>2024-07-08</td>\n",
       "      <td>Brent Garcia</td>\n",
       "      <td>Monitor</td>\n",
       "      <td>2</td>\n",
       "      <td>1495.76</td>\n",
       "      <td>2991.52</td>\n",
       "    </tr>\n",
       "  </tbody>\n",
       "</table>\n",
       "</div>"
      ],
      "text/plain": [
       "   id_venda  data_venda         cliente  produto  quantidade  preco_unitario  \\\n",
       "0         1  2024-03-12    Laura Turner  Teclado           5         4231.92   \n",
       "1         2  2025-01-25  Regina Johnson  Teclado           4          583.05   \n",
       "2         3  2024-07-08    Brent Garcia  Monitor           2         1495.76   \n",
       "\n",
       "   total_venda  \n",
       "0     21159.60  \n",
       "1      2332.20  \n",
       "2      2991.52  "
      ]
     },
     "execution_count": 4,
     "metadata": {},
     "output_type": "execute_result"
    }
   ],
   "source": [
    "df['total_venda'] = df['quantidade'] * df['preco_unitario']\n",
    "df.head(3)"
   ]
  },
  {
   "cell_type": "markdown",
   "metadata": {},
   "source": [
    "## Salvando o novo dataset"
   ]
  },
  {
   "cell_type": "code",
   "execution_count": null,
   "metadata": {},
   "outputs": [],
   "source": [
    "# Definir o caminho do diretório onde o arquivo será salvo\n",
    "output_dir = \"../../data/cleaned_data\"\n",
    "os.makedirs(output_dir, exist_ok=True)\n",
    "\n",
    "# Caminho completo do arquivo CSV\n",
    "output_file = os.path.join(output_dir, \"Arquivo_CSV_de_Vendas_Limpo.csv\")\n",
    "\n",
    "# Salvando o DataFrame modificado\n",
    "df.to_csv(output_file, index=False)\n",
    "\n",
    "print(f\"Arquivo salvo em: {output_file}\")"
   ]
  }
 ],
 "metadata": {
  "kernelspec": {
   "display_name": "venv_titanic",
   "language": "python",
   "name": "python3"
  },
  "language_info": {
   "codemirror_mode": {
    "name": "ipython",
    "version": 3
   },
   "file_extension": ".py",
   "mimetype": "text/x-python",
   "name": "python",
   "nbconvert_exporter": "python",
   "pygments_lexer": "ipython3",
   "version": "3.10.11"
  }
 },
 "nbformat": 4,
 "nbformat_minor": 2
}
